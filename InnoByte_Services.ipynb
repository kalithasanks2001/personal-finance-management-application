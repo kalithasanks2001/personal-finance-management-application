{
 "cells": [
  {
   "cell_type": "markdown",
   "id": "35086acd",
   "metadata": {},
   "source": [
    "#  Personal Finance Management Application"
   ]
  },
  {
   "cell_type": "markdown",
   "id": "06287a97",
   "metadata": {},
   "source": [
    "# Database Initialization"
   ]
  },
  {
   "cell_type": "code",
   "execution_count": 1,
   "id": "f0483b50",
   "metadata": {},
   "outputs": [
    {
     "name": "stdout",
     "output_type": "stream",
     "text": [
      "Database Initialized.\n"
     ]
    }
   ],
   "source": [
    "import sqlite3\n",
    "import pandas as pd\n",
    "\n",
    "# Database Initialization\n",
    "def init_db():\n",
    "    conn = sqlite3.connect(\"finance.db\")\n",
    "    cursor = conn.cursor()\n",
    "    # User table\n",
    "    cursor.execute('''CREATE TABLE IF NOT EXISTS users (\n",
    "                        id INTEGER PRIMARY KEY AUTOINCREMENT,\n",
    "                        username TEXT UNIQUE NOT NULL,\n",
    "                        password TEXT NOT NULL)''')\n",
    "    # Transactions table\n",
    "    cursor.execute('''CREATE TABLE IF NOT EXISTS transactions (\n",
    "                        id INTEGER PRIMARY KEY AUTOINCREMENT,\n",
    "                        user_id INTEGER,\n",
    "                        type TEXT, \n",
    "                        category TEXT,\n",
    "                        amount REAL,\n",
    "                        date TEXT,\n",
    "                        FOREIGN KEY(user_id) REFERENCES users(id))''')\n",
    "    conn.commit()\n",
    "    conn.close()\n",
    "    print(\"Database Initialized.\")\n",
    "\n",
    "init_db()"
   ]
  },
  {
   "cell_type": "markdown",
   "id": "d2abcd32",
   "metadata": {},
   "source": [
    "# User Registration and Authentication"
   ]
  },
  {
   "cell_type": "code",
   "execution_count": 2,
   "id": "8caf6ceb",
   "metadata": {},
   "outputs": [
    {
     "name": "stdout",
     "output_type": "stream",
     "text": [
      "User 'test_user' registered successfully!\n",
      "(1, 'test_user', 'password123')\n"
     ]
    }
   ],
   "source": [
    "# User Registration\n",
    "def register_user(username, password):\n",
    "    conn = sqlite3.connect(\"finance.db\")\n",
    "    cursor = conn.cursor()\n",
    "    try:\n",
    "        cursor.execute(\"INSERT INTO users (username, password) VALUES (?, ?)\", (username, password))\n",
    "        conn.commit()\n",
    "        print(f\"User '{username}' registered successfully!\")\n",
    "    except sqlite3.IntegrityError:\n",
    "        print(\"Username already exists. Try a different one.\")\n",
    "    conn.close()\n",
    "\n",
    "# User Authentication\n",
    "def authenticate_user(username, password):\n",
    "    conn = sqlite3.connect(\"finance.db\")\n",
    "    cursor = conn.cursor()\n",
    "    cursor.execute(\"SELECT * FROM users WHERE username = ? AND password = ?\", (username, password))\n",
    "    user = cursor.fetchone()\n",
    "    conn.close()\n",
    "    return user\n",
    "\n",
    "# Example Execution\n",
    "register_user(\"test_user\", \"password123\")\n",
    "print(authenticate_user(\"test_user\", \"password123\"))"
   ]
  },
  {
   "cell_type": "markdown",
   "id": "c5ee1603",
   "metadata": {},
   "source": [
    "# Income and Expense Tracking"
   ]
  },
  {
   "cell_type": "code",
   "execution_count": 3,
   "id": "44989515",
   "metadata": {},
   "outputs": [
    {
     "name": "stdout",
     "output_type": "stream",
     "text": [
      "Income transaction added successfully!\n",
      "Expense transaction added successfully!\n",
      "   id  user_id     type category  amount        date\n",
      "0   1        1   income   Salary  5000.0  2024-12-14\n",
      "1   2        1  expense     Food    50.0  2024-12-14\n"
     ]
    }
   ],
   "source": [
    "from datetime import datetime\n",
    "\n",
    "# Add Transaction\n",
    "def add_transaction(user_id, t_type, category, amount):\n",
    "    conn = sqlite3.connect(\"finance.db\")\n",
    "    cursor = conn.cursor()\n",
    "    date = datetime.now().strftime(\"%Y-%m-%d\")\n",
    "    cursor.execute(\"INSERT INTO transactions (user_id, type, category, amount, date) VALUES (?, ?, ?, ?, ?)\",\n",
    "                   (user_id, t_type, category, amount, date))\n",
    "    conn.commit()\n",
    "    conn.close()\n",
    "    print(f\"{t_type.capitalize()} transaction added successfully!\")\n",
    "\n",
    "# View Transactions\n",
    "def view_transactions(user_id):\n",
    "    conn = sqlite3.connect(\"finance.db\")\n",
    "    df = pd.read_sql_query(\"SELECT * FROM transactions WHERE user_id = ?\", conn, params=(user_id,))\n",
    "    conn.close()\n",
    "    return df\n",
    "\n",
    "# Example Execution\n",
    "user = authenticate_user(\"test_user\", \"password123\")\n",
    "if user:\n",
    "    add_transaction(user[0], \"income\", \"Salary\", 5000)\n",
    "    add_transaction(user[0], \"expense\", \"Food\", 50)\n",
    "    print(view_transactions(user[0]))"
   ]
  },
  {
   "cell_type": "markdown",
   "id": "0a1be605",
   "metadata": {},
   "source": [
    "# Financial Reports"
   ]
  },
  {
   "cell_type": "code",
   "execution_count": 4,
   "id": "31b2f1dc",
   "metadata": {},
   "outputs": [
    {
     "name": "stdout",
     "output_type": "stream",
     "text": [
      "--- Monthly Report ---\n",
      "      type   total\n",
      "0  expense    50.0\n",
      "1   income  5000.0\n"
     ]
    }
   ],
   "source": [
    "# Financial Report\n",
    "def generate_report(user_id, period=\"monthly\"):\n",
    "    conn = sqlite3.connect(\"finance.db\")\n",
    "    if period == \"monthly\":\n",
    "        query = \"SELECT type, SUM(amount) AS total FROM transactions WHERE user_id = ? AND strftime('%Y-%m', date) = ? GROUP BY type\"\n",
    "        date_period = datetime.now().strftime(\"%Y-%m\")\n",
    "    elif period == \"yearly\":\n",
    "        query = \"SELECT type, SUM(amount) AS total FROM transactions WHERE user_id = ? AND strftime('%Y', date) = ? GROUP BY type\"\n",
    "        date_period = datetime.now().strftime(\"%Y\")\n",
    "    else:\n",
    "        return \"Invalid period. Use 'monthly' or 'yearly'.\"\n",
    "    \n",
    "    df = pd.read_sql_query(query, conn, params=(user_id, date_period))\n",
    "    conn.close()\n",
    "    print(f\"--- {period.capitalize()} Report ---\")\n",
    "    return df\n",
    "\n",
    "# Example Execution\n",
    "if user:\n",
    "    print(generate_report(user[0], period=\"monthly\"))"
   ]
  },
  {
   "cell_type": "markdown",
   "id": "05093081",
   "metadata": {},
   "source": [
    "# Budgeting"
   ]
  },
  {
   "cell_type": "code",
   "execution_count": 5,
   "id": "e4f8f65e",
   "metadata": {},
   "outputs": [
    {
     "name": "stdout",
     "output_type": "stream",
     "text": [
      "Budget check passed. Spent: 50.0, Limit: 100\n"
     ]
    }
   ],
   "source": [
    "# Budgeting\n",
    "def check_budget(user_id, category, budget_limit):\n",
    "    conn = sqlite3.connect(\"finance.db\")\n",
    "    query = '''SELECT SUM(amount) AS total_expense FROM transactions\n",
    "               WHERE user_id = ? AND type = 'expense' AND category = ?'''\n",
    "    cursor = conn.cursor()\n",
    "    cursor.execute(query, (user_id, category))\n",
    "    result = cursor.fetchone()[0] or 0\n",
    "    conn.close()\n",
    "    if result > budget_limit:\n",
    "        print(f\"Alert! You've exceeded your budget for {category}. Spent: {result}, Limit: {budget_limit}\")\n",
    "    else:\n",
    "        print(f\"Budget check passed. Spent: {result}, Limit: {budget_limit}\")\n",
    "\n",
    "# Example Execution\n",
    "if user:\n",
    "    check_budget(user[0], \"Food\", 100)"
   ]
  },
  {
   "cell_type": "markdown",
   "id": "5de338ec",
   "metadata": {},
   "source": [
    "#  Full Flow Example"
   ]
  },
  {
   "cell_type": "code",
   "execution_count": 6,
   "id": "bfaaf5db",
   "metadata": {},
   "outputs": [
    {
     "name": "stdout",
     "output_type": "stream",
     "text": [
      "Username already exists. Try a different one.\n",
      "Income transaction added successfully!\n",
      "Expense transaction added successfully!\n",
      "Expense transaction added successfully!\n",
      "   id  user_id     type category  amount        date\n",
      "0   1        1   income   Salary  5000.0  2024-12-14\n",
      "1   2        1  expense     Food    50.0  2024-12-14\n",
      "2   3        1   income   Salary  5000.0  2024-12-14\n",
      "3   4        1  expense     Food   120.0  2024-12-14\n",
      "4   5        1  expense     Rent  1500.0  2024-12-14\n",
      "--- Monthly Report ---\n",
      "      type    total\n",
      "0  expense   1670.0\n",
      "1   income  10000.0\n",
      "Alert! You've exceeded your budget for Food. Spent: 170.0, Limit: 100\n"
     ]
    }
   ],
   "source": [
    "# Simulated User Flow\n",
    "username = \"test_user\"\n",
    "password = \"password123\"\n",
    "\n",
    "# Register and Authenticate\n",
    "register_user(username, password)\n",
    "user = authenticate_user(username, password)\n",
    "\n",
    "if user:\n",
    "    user_id = user[0]\n",
    "    add_transaction(user_id, \"income\", \"Salary\", 5000)\n",
    "    add_transaction(user_id, \"expense\", \"Food\", 120)\n",
    "    add_transaction(user_id, \"expense\", \"Rent\", 1500)\n",
    "    print(view_transactions(user_id))\n",
    "    print(generate_report(user_id, period=\"monthly\"))\n",
    "    check_budget(user_id, \"Food\", 100)\n",
    "else:\n",
    "    print(\"Authentication failed.\")"
   ]
  },
  {
   "cell_type": "markdown",
   "id": "61bd6e96",
   "metadata": {},
   "source": [
    "# Testing"
   ]
  },
  {
   "cell_type": "code",
   "execution_count": 9,
   "id": "dc9b6e00",
   "metadata": {},
   "outputs": [
    {
     "name": "stderr",
     "output_type": "stream",
     "text": [
      "test_authenticate_user (__main__.TestFinanceApp.test_authenticate_user)\n",
      "Test user authentication. ... ok\n",
      "test_register_user (__main__.TestFinanceApp.test_register_user)\n",
      "Test user registration. ... ok\n",
      "\n",
      "----------------------------------------------------------------------\n",
      "Ran 2 tests in 0.007s\n",
      "\n",
      "OK\n"
     ]
    },
    {
     "name": "stdout",
     "output_type": "stream",
     "text": [
      "\n",
      "Setting up test user...\n",
      "Username already exists. Try a different one.\n",
      "Testing user authentication...\n",
      "User authentication passed!\n",
      "\n",
      "Setting up test user...\n",
      "Username already exists. Try a different one.\n",
      "Testing user registration...\n",
      "User registration passed!\n"
     ]
    }
   ],
   "source": [
    "import unittest\n",
    "\n",
    "class TestFinanceApp(unittest.TestCase):\n",
    "    def setUp(self):\n",
    "        \"\"\"Initialize database and register a test user.\"\"\"\n",
    "        self.test_username = \"unit_test_user\"\n",
    "        self.test_password = \"test123\"\n",
    "        print(\"\\nSetting up test user...\")\n",
    "        register_user(self.test_username, self.test_password)\n",
    "\n",
    "    def test_register_user(self):\n",
    "        \"\"\"Test user registration.\"\"\"\n",
    "        print(\"Testing user registration...\")\n",
    "        user = authenticate_user(self.test_username, self.test_password)\n",
    "        self.assertIsNotNone(user, \"User registration failed.\")\n",
    "        print(\"User registration passed!\")\n",
    "\n",
    "    def test_authenticate_user(self):\n",
    "        \"\"\"Test user authentication.\"\"\"\n",
    "        print(\"Testing user authentication...\")\n",
    "        user = authenticate_user(self.test_username, self.test_password)\n",
    "        self.assertIsNotNone(user, \"User authentication failed.\")\n",
    "        print(\"User authentication passed!\")\n",
    "\n",
    "if __name__ == \"__main__\":\n",
    "    unittest.main(argv=['', '-v'], exit=False)"
   ]
  },
  {
   "cell_type": "code",
   "execution_count": null,
   "id": "5b857402",
   "metadata": {},
   "outputs": [],
   "source": []
  }
 ],
 "metadata": {
  "kernelspec": {
   "display_name": "Python 3 (ipykernel)",
   "language": "python",
   "name": "python3"
  },
  "language_info": {
   "codemirror_mode": {
    "name": "ipython",
    "version": 3
   },
   "file_extension": ".py",
   "mimetype": "text/x-python",
   "name": "python",
   "nbconvert_exporter": "python",
   "pygments_lexer": "ipython3",
   "version": "3.11.5"
  }
 },
 "nbformat": 4,
 "nbformat_minor": 5
}
